{
 "cells": [
  {
   "cell_type": "code",
   "execution_count": 1,
   "id": "1ae50565",
   "metadata": {},
   "outputs": [],
   "source": [
    "import sqlite3\n",
    "\n",
    "mydb=sqlite3.connect(\"Studentsdatabase.db\")\n",
    "\n",
    "cursor=mydb.cursor()\n"
   ]
  },
  {
   "cell_type": "code",
   "execution_count": 36,
   "id": "200eb563",
   "metadata": {},
   "outputs": [
    {
     "name": "stdout",
     "output_type": "stream",
     "text": [
      "students table created sucessfully\n"
     ]
    }
   ],
   "source": [
    "cursor.execute(\"\"\"\n",
    "               CREATE TABLE IF NOT EXISTS students (\n",
    "               ID INTEGER PRIMARY KEY,\n",
    "               STUDENT_NAME TEXT NOT NULL,\n",
    "               TUDENT_EMAIL TEXT,\n",
    "               phone_number INTEGER)\"\"\")\n",
    "print(\"students table created sucessfully\")"
   ]
  },
  {
   "cell_type": "code",
   "execution_count": 37,
   "id": "0f95fcbb",
   "metadata": {},
   "outputs": [
    {
     "ename": "OperationalError",
     "evalue": "table Students has no column named ID",
     "output_type": "error",
     "traceback": [
      "\u001b[1;31m---------------------------------------------------------------------------\u001b[0m",
      "\u001b[1;31mOperationalError\u001b[0m                          Traceback (most recent call last)",
      "Cell \u001b[1;32mIn[37], line 1\u001b[0m\n\u001b[1;32m----> 1\u001b[0m \u001b[43mcursor\u001b[49m\u001b[38;5;241;43m.\u001b[39;49m\u001b[43mexecute\u001b[49m\u001b[43m(\u001b[49m\u001b[38;5;124;43m\"\"\"\u001b[39;49m\u001b[38;5;124;43m INSERT INTO Students (ID, Student_Name, Student_EMAIL, Phone_Number)\u001b[39;49m\n\u001b[0;32m      2\u001b[0m \u001b[38;5;124;43mVALUES \u001b[39;49m\n\u001b[0;32m      3\u001b[0m \u001b[38;5;124;43m    (1, \u001b[39;49m\u001b[38;5;124;43m'\u001b[39;49m\u001b[38;5;124;43mLiam Gentry\u001b[39;49m\u001b[38;5;124;43m'\u001b[39;49m\u001b[38;5;124;43m, \u001b[39;49m\u001b[38;5;124;43m'\u001b[39;49m\u001b[38;5;124;43mliamgentry@example.com\u001b[39;49m\u001b[38;5;124;43m'\u001b[39;49m\u001b[38;5;124;43m, \u001b[39;49m\u001b[38;5;124;43m'\u001b[39;49m\u001b[38;5;124;43m9876543210\u001b[39;49m\u001b[38;5;124;43m'\u001b[39;49m\u001b[38;5;124;43m),\u001b[39;49m\n\u001b[0;32m      4\u001b[0m \u001b[38;5;124;43m    (2, \u001b[39;49m\u001b[38;5;124;43m'\u001b[39;49m\u001b[38;5;124;43mLyric Glass\u001b[39;49m\u001b[38;5;124;43m'\u001b[39;49m\u001b[38;5;124;43m, \u001b[39;49m\u001b[38;5;124;43m'\u001b[39;49m\u001b[38;5;124;43mlyricglass@example.com\u001b[39;49m\u001b[38;5;124;43m'\u001b[39;49m\u001b[38;5;124;43m, \u001b[39;49m\u001b[38;5;124;43m'\u001b[39;49m\u001b[38;5;124;43m9876543211\u001b[39;49m\u001b[38;5;124;43m'\u001b[39;49m\u001b[38;5;124;43m),\u001b[39;49m\n\u001b[0;32m      5\u001b[0m \u001b[38;5;124;43m    (3, \u001b[39;49m\u001b[38;5;124;43m'\u001b[39;49m\u001b[38;5;124;43mJake Shuler\u001b[39;49m\u001b[38;5;124;43m'\u001b[39;49m\u001b[38;5;124;43m, \u001b[39;49m\u001b[38;5;124;43m'\u001b[39;49m\u001b[38;5;124;43mjakeshuler@example.com\u001b[39;49m\u001b[38;5;124;43m'\u001b[39;49m\u001b[38;5;124;43m, \u001b[39;49m\u001b[38;5;124;43m'\u001b[39;49m\u001b[38;5;124;43m98765499\u001b[39;49m\u001b[38;5;124;43m'\u001b[39;49m\u001b[38;5;124;43m)\u001b[39;49m\u001b[38;5;124;43m\"\"\"\u001b[39;49m\u001b[43m)\u001b[49m\n\u001b[0;32m      6\u001b[0m \u001b[38;5;28mprint\u001b[39m(cursor\u001b[38;5;241m.\u001b[39mfetchall())\n\u001b[0;32m      7\u001b[0m mydb\u001b[38;5;241m.\u001b[39mcommit()\n",
      "\u001b[1;31mOperationalError\u001b[0m: table Students has no column named ID"
     ]
    }
   ],
   "source": [
    "cursor.execute(\"\"\" INSERT INTO Students (ID, Student_Name, Student_EMAIL, Phone_Number)\n",
    "VALUES \n",
    "    (1, 'Liam Gentry', 'liamgentry@example.com', '9876543210'),\n",
    "    (2, 'Lyric Glass', 'lyricglass@example.com', '9876543211'),\n",
    "    (3, 'Jake Shuler', 'jakeshuler@example.com', '98765499')\"\"\")\n",
    "print(cursor.fetchall())\n",
    "mydb.commit()"
   ]
  },
  {
   "cell_type": "code",
   "execution_count": null,
   "id": "a8477a8c",
   "metadata": {},
   "outputs": [],
   "source": []
  }
 ],
 "metadata": {
  "kernelspec": {
   "display_name": "base",
   "language": "python",
   "name": "python3"
  },
  "language_info": {
   "codemirror_mode": {
    "name": "ipython",
    "version": 3
   },
   "file_extension": ".py",
   "mimetype": "text/x-python",
   "name": "python",
   "nbconvert_exporter": "python",
   "pygments_lexer": "ipython3",
   "version": "3.12.7"
  }
 },
 "nbformat": 4,
 "nbformat_minor": 5
}
