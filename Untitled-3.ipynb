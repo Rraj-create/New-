{
 "cells": [
  {
   "cell_type": "code",
   "execution_count": 3,
   "id": "feada2dd",
   "metadata": {},
   "outputs": [],
   "source": [
    "import os \n"
   ]
  },
  {
   "cell_type": "code",
   "execution_count": 4,
   "id": "d05f3703",
   "metadata": {},
   "outputs": [
    {
     "data": {
      "text/plain": [
       "'c:\\\\Users\\\\rr151\\\\AppData\\\\Local\\\\Programs\\\\Microsoft VS Code'"
      ]
     },
     "execution_count": 4,
     "metadata": {},
     "output_type": "execute_result"
    }
   ],
   "source": [
    "os.getcwd()"
   ]
  },
  {
   "cell_type": "code",
   "execution_count": 5,
   "id": "5b96c5d1",
   "metadata": {},
   "outputs": [
    {
     "data": {
      "text/plain": [
       "['a.text',\n",
       " 'a.txt',\n",
       " 'bin',\n",
       " 'chrome_100_percent.pak',\n",
       " 'chrome_200_percent.pak',\n",
       " 'Code.exe',\n",
       " 'Code.VisualElementsManifest.xml',\n",
       " 'd3dcompiler_47.dll',\n",
       " 'ffmpeg.dll',\n",
       " 'icudtl.dat',\n",
       " 'libEGL.dll',\n",
       " 'libGLESv2.dll',\n",
       " 'LICENSES.chromium.html',\n",
       " 'locales',\n",
       " 'policies',\n",
       " 'resources',\n",
       " 'resources.pak',\n",
       " 'snapshot_blob.bin',\n",
       " 'tools',\n",
       " 'unins000.dat',\n",
       " 'unins000.exe',\n",
       " 'unins000.msg',\n",
       " 'v8_context_snapshot.bin',\n",
       " 'vk_swiftshader.dll',\n",
       " 'vk_swiftshader_icd.json',\n",
       " 'vulkan-1.dll']"
      ]
     },
     "execution_count": 5,
     "metadata": {},
     "output_type": "execute_result"
    }
   ],
   "source": [
    "os.listdir()"
   ]
  },
  {
   "cell_type": "code",
   "execution_count": 6,
   "id": "88455b77",
   "metadata": {},
   "outputs": [
    {
     "name": "stdout",
     "output_type": "stream",
     "text": [
      "['a.text', 'a.txt', 'bin', 'chrome_100_percent.pak', 'chrome_200_percent.pak', 'Code.exe', 'Code.VisualElementsManifest.xml', 'd3dcompiler_47.dll', 'ffmpeg.dll', 'icudtl.dat', 'libEGL.dll', 'libGLESv2.dll', 'LICENSES.chromium.html', 'locales', 'policies', 'resources', 'resources.pak', 'snapshot_blob.bin', 'tools', 'unins000.dat', 'unins000.exe', 'unins000.msg', 'v8_context_snapshot.bin', 'vk_swiftshader.dll', 'vk_swiftshader_icd.json', 'vulkan-1.dll']\n"
     ]
    }
   ],
   "source": [
    "print(os.listdir('c:\\\\Users\\\\rr151\\\\AppData\\\\Local\\\\Programs\\\\Microsoft VS Code'))"
   ]
  },
  {
   "cell_type": "code",
   "execution_count": 12,
   "id": "a8ae1d76",
   "metadata": {},
   "outputs": [
    {
     "data": {
      "text/plain": [
       "'c:\\\\Users\\\\rr151\\\\AppData\\\\Local\\\\Programs\\\\Microsoft VS Code\\\\a.txt'"
      ]
     },
     "execution_count": 12,
     "metadata": {},
     "output_type": "execute_result"
    }
   ],
   "source": [
    "os.path.join(os.getcwd(),\"a.txt\")"
   ]
  },
  {
   "cell_type": "code",
   "execution_count": 13,
   "id": "e2437233",
   "metadata": {},
   "outputs": [
    {
     "data": {
      "text/plain": [
       "'c:\\\\Users\\\\rr151\\\\AppData\\\\Local\\\\Programs\\\\Microsoft VS Code\\\\a.txt\\\\this is something new'"
      ]
     },
     "execution_count": 13,
     "metadata": {},
     "output_type": "execute_result"
    }
   ],
   "source": [
    "os.path.join(os.getcwd(),\"a.txt\",\"this is something new\")"
   ]
  },
  {
   "cell_type": "code",
   "execution_count": null,
   "id": "f758f3af",
   "metadata": {},
   "outputs": [],
   "source": [
    "file=open(\"a.txt\") # to open a file \n"
   ]
  },
  {
   "cell_type": "code",
   "execution_count": 18,
   "id": "e8a5b129",
   "metadata": {},
   "outputs": [
    {
     "name": "stdout",
     "output_type": "stream",
     "text": [
      "c:\\Users\\rr151\\AppData\\Local\\Programs\\Microsoft VS Code\\a.txt\n"
     ]
    }
   ],
   "source": [
    "full_path =os.path.join(os.getcwd(),\"a.txt\")\n",
    "print(full_path)"
   ]
  },
  {
   "cell_type": "code",
   "execution_count": null,
   "id": "8ec9d958",
   "metadata": {},
   "outputs": [
    {
     "name": "stdout",
     "output_type": "stream",
     "text": [
      "hello\n",
      "this is new file\n",
      "this is second line\n",
      "this is the new statement\n"
     ]
    }
   ],
   "source": [
    "file =open(full_path) #this is to open a file \n",
    "content=file.read() # this is to read a file\n",
    "print(content)"
   ]
  },
  {
   "cell_type": "code",
   "execution_count": 30,
   "id": "e252fa09",
   "metadata": {},
   "outputs": [
    {
     "data": {
      "text/plain": [
       "['hello\\nthis is new file\\nthis is second line\\nthis is the new statement']"
      ]
     },
     "execution_count": 30,
     "metadata": {},
     "output_type": "execute_result"
    }
   ],
   "source": [
    "content.split(\"\\t\") #this is to split the content of a file \n"
   ]
  },
  {
   "cell_type": "code",
   "execution_count": 29,
   "id": "fa658685",
   "metadata": {},
   "outputs": [
    {
     "data": {
      "text/plain": [
       "['hello',\n",
       " 'this is new file',\n",
       " 'this is second line',\n",
       " 'this is the new statement']"
      ]
     },
     "execution_count": 29,
     "metadata": {},
     "output_type": "execute_result"
    }
   ],
   "source": [
    "content.split(\"\\n\")"
   ]
  },
  {
   "cell_type": "code",
   "execution_count": null,
   "id": "282df826",
   "metadata": {},
   "outputs": [
    {
     "name": "stdout",
     "output_type": "stream",
     "text": [
      "hello\n",
      "\n",
      "this is new file\n",
      "\n"
     ]
    }
   ],
   "source": [
    "f=open(full_path) \n",
    "lines=f.readline() # so readline() function will only read the first line when we call this function.\n",
    "print(lines)\n",
    "lines=f.readline() # we called it here again so it will print the second line also  \n",
    "print(lines)\n",
    "f.close() # we must have to close the file after reading or writing it to avoid any problems."
   ]
  },
  {
   "cell_type": "code",
   "execution_count": null,
   "id": "25f2630c",
   "metadata": {},
   "outputs": [
    {
     "ename": "ValueError",
     "evalue": "I/O operation on closed file.",
     "output_type": "error",
     "traceback": [
      "\u001b[1;31m---------------------------------------------------------------------------\u001b[0m",
      "\u001b[1;31mValueError\u001b[0m                                Traceback (most recent call last)",
      "Cell \u001b[1;32mIn[37], line 1\u001b[0m\n\u001b[1;32m----> 1\u001b[0m lines\u001b[38;5;241m=\u001b[39m\u001b[43mf\u001b[49m\u001b[38;5;241;43m.\u001b[39;49m\u001b[43mreadlines\u001b[49m\u001b[43m(\u001b[49m\u001b[43m)\u001b[49m\n\u001b[0;32m      2\u001b[0m \u001b[38;5;28mprint\u001b[39m(lines)\n\u001b[0;32m      3\u001b[0m f\u001b[38;5;241m.\u001b[39mclose()\n",
      "\u001b[1;31mValueError\u001b[0m: I/O operation on closed file."
     ]
    }
   ],
   "source": [
    "lines=f.readlines()\n",
    "print(lines) # here rwe will get an error because that file is already closed and we cant read it now .\n"
   ]
  },
  {
   "cell_type": "code",
   "execution_count": null,
   "id": "5d1efc8e",
   "metadata": {},
   "outputs": [
    {
     "name": "stdout",
     "output_type": "stream",
     "text": [
      "['hello\\n', 'this is new file\\n', 'this is second line\\n', 'this is the new statement']\n"
     ]
    }
   ],
   "source": [
    "f=open(full_path) \n",
    "lines=f.readlines() # so readlines() function will read all the lines of the file \n",
    "print(lines)"
   ]
  },
  {
   "cell_type": "code",
   "execution_count": null,
   "id": "065bc822",
   "metadata": {},
   "outputs": [
    {
     "ename": "UnsupportedOperation",
     "evalue": "not writable",
     "output_type": "error",
     "traceback": [
      "\u001b[1;31m---------------------------------------------------------------------------\u001b[0m",
      "\u001b[1;31mUnsupportedOperation\u001b[0m                      Traceback (most recent call last)",
      "Cell \u001b[1;32mIn[41], line 2\u001b[0m\n\u001b[0;32m      1\u001b[0m f\u001b[38;5;241m=\u001b[39m\u001b[38;5;28mopen\u001b[39m(full_path,\u001b[38;5;124m\"\u001b[39m\u001b[38;5;124mr\u001b[39m\u001b[38;5;124m\"\u001b[39m)\n\u001b[1;32m----> 2\u001b[0m content\u001b[38;5;241m=\u001b[39m\u001b[43mf\u001b[49m\u001b[38;5;241;43m.\u001b[39;49m\u001b[43mwrite\u001b[49m\u001b[43m(\u001b[49m\u001b[38;5;124;43m\"\u001b[39;49m\u001b[38;5;124;43m this is a new content\u001b[39;49m\u001b[38;5;124;43m\"\u001b[39;49m\u001b[43m)\u001b[49m\n\u001b[0;32m      3\u001b[0m \u001b[38;5;28mprint\u001b[39m(content)\n\u001b[0;32m      4\u001b[0m line\u001b[38;5;241m=\u001b[39mf\u001b[38;5;241m.\u001b[39mreadlines(\u001b[38;5;124m\"\u001b[39m\u001b[38;5;130;01m\\n\u001b[39;00m\u001b[38;5;124m\"\u001b[39m)\n",
      "\u001b[1;31mUnsupportedOperation\u001b[0m: not writable"
     ]
    }
   ],
   "source": [
    "f=open(full_path)\n",
    "content=f.write(\" this is a new content\")\n",
    "print(content)\n",
    "line=f.readlines(\"\\n\")\n"
   ]
  },
  {
   "cell_type": "code",
   "execution_count": 43,
   "id": "5fbc1734",
   "metadata": {},
   "outputs": [
    {
     "name": "stdout",
     "output_type": "stream",
     "text": [
      "['hello\\n', 'this is new file\\n', 'this is second line\\n', 'this is the new statement']\n"
     ]
    }
   ],
   "source": [
    "with open(full_path,\"r\") as f:\n",
    "    lines=f.readlines()\n",
    "    print(lines)"
   ]
  },
  {
   "cell_type": "code",
   "execution_count": 50,
   "id": "1cbb9ff8",
   "metadata": {},
   "outputs": [
    {
     "name": "stdout",
     "output_type": "stream",
     "text": [
      "<_io.TextIOWrapper name='c:\\\\Users\\\\rr151\\\\AppData\\\\Local\\\\Programs\\\\Microsoft VS Code\\\\a.txt' mode='w' encoding='utf-8'>\n"
     ]
    }
   ],
   "source": [
    "with open(full_path,\"w\") as f:\n",
    "    f.write(\" this is a new content in the file \")\n",
    "    print(f)"
   ]
  },
  {
   "cell_type": "code",
   "execution_count": 52,
   "id": "49f373ac",
   "metadata": {},
   "outputs": [
    {
     "name": "stdout",
     "output_type": "stream",
     "text": [
      " this is a new content in the file \n"
     ]
    }
   ],
   "source": [
    "with open(\"./a.txt\",\"r\") as f :\n",
    "    lines=f.readline()\n",
    "    print(lines)"
   ]
  },
  {
   "cell_type": "code",
   "execution_count": 53,
   "id": "233e1b3d",
   "metadata": {},
   "outputs": [],
   "source": [
    "a=[\" this in newly added line\",\"  \" \" hello\" ,\"\\n\" ,\"how are you \"]\n",
    "with open(\"./a.txt\",\"w\") as f:\n",
    "    f.writelines(a)"
   ]
  },
  {
   "cell_type": "code",
   "execution_count": 54,
   "id": "156f1659",
   "metadata": {},
   "outputs": [],
   "source": [
    "with open(\"./b.txt\",\"w\") as f :\n",
    "    f.write(\" this is a new file \")"
   ]
  },
  {
   "cell_type": "code",
   "execution_count": 59,
   "id": "bd4c0c48",
   "metadata": {},
   "outputs": [
    {
     "name": "stdout",
     "output_type": "stream",
     "text": [
      "c:\\Users\\rr151\\AppData\\Local\\Programs\\Microsoft VS Code\\b.txt\n"
     ]
    }
   ],
   "source": [
    "file_path = os.path.abspath(\"./b.txt\")\n",
    "print(file_path)"
   ]
  },
  {
   "cell_type": "code",
   "execution_count": 64,
   "id": "004a4ef3",
   "metadata": {},
   "outputs": [],
   "source": [
    "def students_data(data):\n",
    "    print(data)\n",
    "    data_of_students[data]:{}\n",
    "    data_of_students[data][\"name\"]: name\n",
    "    data_of_students[data][\"age\"]: age\n",
    "    data_of_students[data][\"gender\"]: gender\n",
    "    data_of_students[data][\"classno.\"]: classno\n",
    "    "
   ]
  },
  {
   "cell_type": "code",
   "execution_count": 65,
   "id": "aefb6428",
   "metadata": {},
   "outputs": [
    {
     "ename": "NameError",
     "evalue": "name 'data' is not defined",
     "output_type": "error",
     "traceback": [
      "\u001b[1;31m---------------------------------------------------------------------------\u001b[0m",
      "\u001b[1;31mNameError\u001b[0m                                 Traceback (most recent call last)",
      "Cell \u001b[1;32mIn[65], line 6\u001b[0m\n\u001b[0;32m      3\u001b[0m gender\u001b[38;5;241m=\u001b[39m\u001b[38;5;28minput\u001b[39m(\u001b[38;5;124m\"\u001b[39m\u001b[38;5;124menter the gender:\u001b[39m\u001b[38;5;124m\"\u001b[39m)\n\u001b[0;32m      4\u001b[0m classno\u001b[38;5;241m=\u001b[39m\u001b[38;5;28mint\u001b[39m(\u001b[38;5;28minput\u001b[39m(\u001b[38;5;124m\"\u001b[39m\u001b[38;5;124menter the class no:\u001b[39m\u001b[38;5;124m\"\u001b[39m))\n\u001b[1;32m----> 6\u001b[0m students_data(\u001b[43mdata\u001b[49m)\n",
      "\u001b[1;31mNameError\u001b[0m: name 'data' is not defined"
     ]
    }
   ],
   "source": [
    "name=input(\"enter the name:\")\n",
    "age=int(input(\"enter the age:\"))\n",
    "gender=input(\"enter the gender:\")\n",
    "classno=int(input(\"enter the class no:\"))\n",
    " \n",
    "students_data(data)"
   ]
  },
  {
   "cell_type": "code",
   "execution_count": null,
   "id": "6199c3a6",
   "metadata": {},
   "outputs": [],
   "source": []
  }
 ],
 "metadata": {
  "kernelspec": {
   "display_name": "base",
   "language": "python",
   "name": "python3"
  },
  "language_info": {
   "codemirror_mode": {
    "name": "ipython",
    "version": 3
   },
   "file_extension": ".py",
   "mimetype": "text/x-python",
   "name": "python",
   "nbconvert_exporter": "python",
   "pygments_lexer": "ipython3",
   "version": "3.12.7"
  }
 },
 "nbformat": 4,
 "nbformat_minor": 5
}
