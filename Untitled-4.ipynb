{
 "cells": [
  {
   "cell_type": "code",
   "execution_count": 2,
   "id": "a6a770f6",
   "metadata": {},
   "outputs": [
    {
     "name": "stdout",
     "output_type": "stream",
     "text": [
      "1\n"
     ]
    }
   ],
   "source": [
    "my_list=[1,2,3,4,5]\n",
    "iterator=iter(my_list)\n",
    "print(next(iterator))"
   ]
  },
  {
   "cell_type": "code",
   "execution_count": null,
   "id": "09a14769",
   "metadata": {},
   "outputs": [
    {
     "name": "stdout",
     "output_type": "stream",
     "text": [
      "\n",
      "Rohit\n",
      "Rohit\n"
     ]
    }
   ],
   "source": [
    "while True :\n",
    "    name=input(\"enter the name\")\n",
    "    if name ==\"Raj\":\n",
    "        break \n",
    "    print(name)\n",
    "    \n",
    "        "
   ]
  },
  {
   "cell_type": "code",
   "execution_count": 2,
   "id": "97c8cc28",
   "metadata": {},
   "outputs": [
    {
     "name": "stdout",
     "output_type": "stream",
     "text": [
      "0\n",
      "1\n",
      "2\n",
      "3\n",
      "4\n",
      "6\n",
      "7\n",
      "8\n",
      "9\n"
     ]
    }
   ],
   "source": [
    "for i in range(10):\n",
    "    if i == 5:\n",
    "        continue\n",
    "    print(i)"
   ]
  },
  {
   "cell_type": "code",
   "execution_count": 5,
   "id": "1302f481",
   "metadata": {},
   "outputs": [
    {
     "name": "stdout",
     "output_type": "stream",
     "text": [
      "rohit\n",
      "Raj\n",
      "Hello\n"
     ]
    }
   ],
   "source": [
    "a= True \n",
    "while a:\n",
    "    name=input(\"enter the name\")\n",
    "    if name ==\"Raj\":\n",
    "        a=False\n",
    "    print(name)\n",
    "\n",
    "print(\"Hello\")\n",
    "    "
   ]
  },
  {
   "cell_type": "markdown",
   "id": "3c69a068",
   "metadata": {},
   "source": [
    "## Functions"
   ]
  },
  {
   "cell_type": "code",
   "execution_count": 2,
   "id": "9e41fe20",
   "metadata": {},
   "outputs": [],
   "source": [
    "def add():\n",
    "    a=int(input(\"enter the number\"))\n",
    "    b=int(input(\"enter the number\"))\n",
    "    print(a+b)\n",
    "    "
   ]
  },
  {
   "cell_type": "code",
   "execution_count": 3,
   "id": "b83fba12",
   "metadata": {},
   "outputs": [
    {
     "name": "stdout",
     "output_type": "stream",
     "text": [
      "88\n"
     ]
    }
   ],
   "source": [
    "add()"
   ]
  },
  {
   "cell_type": "code",
   "execution_count": 9,
   "id": "34713837",
   "metadata": {},
   "outputs": [
    {
     "name": "stdout",
     "output_type": "stream",
     "text": [
      "121\n",
      "143\n",
      "116\n"
     ]
    }
   ],
   "source": [
    "for i in range (0,3):\n",
    "    add()"
   ]
  },
  {
   "cell_type": "code",
   "execution_count": 20,
   "id": "7ae6d431",
   "metadata": {},
   "outputs": [],
   "source": [
    "\"\"\"if we dont know what to define in the function  and we call the function then \n",
    "we will get the error so to avoid this error we can simple write pass \n",
    "and our function will not print anything and dont give error also \"\"\"\n",
    "def add():\n",
    "    pass\n",
    "add()"
   ]
  },
  {
   "cell_type": "code",
   "execution_count": 8,
   "id": "0255322f",
   "metadata": {},
   "outputs": [],
   "source": [
    "def calculator ():\n",
    "    a=int(input(\"enter the number\"))\n",
    "    b=int(input(\"enter the number\"))\n",
    "    print(\"what to you want to do ? add,sub,mul,div\")\n",
    "    choice=input(\"enter the choice\")\n",
    "    if choice ==\"add\":\n",
    "        print(a+b)\n",
    "    elif choice ==\"sub\":\n",
    "        print(a-b)\n",
    "    elif choice ==\"mul\":\n",
    "        print(a*b)\n",
    "    elif choice ==\"div\":\n",
    "        print(a/b)\n",
    "    else:\n",
    "        print(\"invalid choice\")\n",
    "        \n",
    "        \n",
    "    \n",
    "        "
   ]
  },
  {
   "cell_type": "code",
   "execution_count": 4,
   "id": "b8e02c90",
   "metadata": {},
   "outputs": [
    {
     "name": "stdout",
     "output_type": "stream",
     "text": [
      "what to you want to do ? add,sub,mul,div\n",
      "invalid choice\n",
      "what to you want to do ? add,sub,mul,div\n",
      "-10\n",
      "what to you want to do ? add,sub,mul,div\n",
      "invalid choice\n"
     ]
    }
   ],
   "source": [
    "for i in range (0,3):\n",
    "    calculator()"
   ]
  },
  {
   "cell_type": "code",
   "execution_count": 7,
   "id": "d50d8ccf",
   "metadata": {},
   "outputs": [
    {
     "ename": "NameError",
     "evalue": "name 'choice' is not defined",
     "output_type": "error",
     "traceback": [
      "\u001b[1;31m---------------------------------------------------------------------------\u001b[0m",
      "\u001b[1;31mNameError\u001b[0m                                 Traceback (most recent call last)",
      "Cell \u001b[1;32mIn[7], line 3\u001b[0m\n\u001b[0;32m      1\u001b[0m a\u001b[38;5;241m=\u001b[39m \u001b[38;5;28;01mTrue\u001b[39;00m \n\u001b[0;32m      2\u001b[0m \u001b[38;5;28;01mwhile\u001b[39;00m a:\n\u001b[1;32m----> 3\u001b[0m     \u001b[38;5;28;01mif\u001b[39;00m \u001b[43mchoice\u001b[49m\u001b[38;5;241m==\u001b[39m \u001b[38;5;124m\"\u001b[39m\u001b[38;5;124m \u001b[39m\u001b[38;5;124m\"\u001b[39m:\n\u001b[0;32m      4\u001b[0m         a\u001b[38;5;241m=\u001b[39m\u001b[38;5;28;01mFalse\u001b[39;00m\n\u001b[0;32m      6\u001b[0m calculator()\n",
      "\u001b[1;31mNameError\u001b[0m: name 'choice' is not defined"
     ]
    }
   ],
   "source": [
    "   \n",
    "a= True \n",
    "while a:\n",
    "    if choice== \" \":\n",
    "        a=False\n",
    "    \n",
    "calculator()\n",
    "        "
   ]
  },
  {
   "cell_type": "markdown",
   "id": "b1f47b65",
   "metadata": {},
   "source": [
    "## Function Parameters"
   ]
  },
  {
   "cell_type": "markdown",
   "id": "bd549f4e",
   "metadata": {},
   "source": [
    "# 1.Default Values :\n",
    "suppose we have defined an function \"add function with some parameters \n",
    "def add(a,b):\n",
    "    print(a+b)\n",
    "add(1,2) : it will give the return 3 . \n",
    "add() : here after calling the function we will get an error because user is calling the functions without parameters.\n",
    "so here comes the 1st parameter default values : where we assign some default value to parameters , and the we can ask the user to give the input and then call the function without paratmeters .\n",
    "for example:\n",
    "def add(a=0,b=0):\n",
    "    a=int(input(\"enter the number\"))\n",
    "    b=int(input(\"enter the another number\"))\n",
    "    print(a+b)\n",
    "\n",
    "sum() : here we can see that we have called the function without parameter so therefore it just ask the user for input and give the function output ."
   ]
  },
  {
   "cell_type": "code",
   "execution_count": 2,
   "id": "f56c1fdf",
   "metadata": {},
   "outputs": [
    {
     "name": "stdout",
     "output_type": "stream",
     "text": [
      "0\n"
     ]
    }
   ],
   "source": [
    "def add(a=0,b=0):\n",
    "    print(a+b)\n",
    "    \n",
    "add()"
   ]
  },
  {
   "cell_type": "code",
   "execution_count": 4,
   "id": "e3cd2626",
   "metadata": {},
   "outputs": [
    {
     "name": "stdout",
     "output_type": "stream",
     "text": [
      "3\n",
      "1\n"
     ]
    }
   ],
   "source": [
    "add(1,2)\n",
    "add(1)"
   ]
  },
  {
   "cell_type": "code",
   "execution_count": 3,
   "id": "4f217553",
   "metadata": {},
   "outputs": [
    {
     "name": "stdout",
     "output_type": "stream",
     "text": [
      "101\n"
     ]
    }
   ],
   "source": [
    "def add(a=0,b=0):\n",
    "    a=int(input(\"enter the number\"))\n",
    "    b=int(input(\"enter the number\"))\n",
    "    print(a+b)\n",
    "add()\n",
    "    "
   ]
  },
  {
   "cell_type": "markdown",
   "id": "03ddfa14",
   "metadata": {},
   "source": [
    "# 2. Non keyword Arguments (*args)\n",
    "we denote it by *args : it take the values as tuple(or we can say that non keywords arguments takes datatype tuple) .\n",
    "so when we dont want to pass strict parameters in the function. so what we do \n",
    ": instead of parameter we just type \"*\"(astrick) and args or whatever name.\n",
    "it will take multiple values and do the operation as metioned in function .\n"
   ]
  },
  {
   "cell_type": "code",
   "execution_count": 5,
   "id": "d74f7b30",
   "metadata": {},
   "outputs": [
    {
     "name": "stdout",
     "output_type": "stream",
     "text": [
      "15\n"
     ]
    }
   ],
   "source": [
    "def add_multiple_values(*args):\n",
    "    sum=0\n",
    "    for i in args:\n",
    "        sum=sum+i\n",
    "    print(sum)\n",
    "    \n",
    "add_multiple_values(1,2,3,4,5)"
   ]
  },
  {
   "cell_type": "code",
   "execution_count": 30,
   "id": "202ea8e5",
   "metadata": {},
   "outputs": [
    {
     "name": "stdout",
     "output_type": "stream",
     "text": [
      "(1, 2, 3, 4, 5)\n"
     ]
    }
   ],
   "source": [
    "def add_multiple_values(*args): # here addition will not happen instead it wll\n",
    "                               # print the values of the arguments and stored it as tuple \n",
    "    print(args)\n",
    "    \n",
    "add_multiple_values(1,2,3,4,5)"
   ]
  },
  {
   "cell_type": "code",
   "execution_count": 16,
   "id": "31fe2074",
   "metadata": {},
   "outputs": [
    {
     "name": "stdout",
     "output_type": "stream",
     "text": [
      "raj\n",
      "ravi\n",
      "ram\n"
     ]
    }
   ],
   "source": [
    "def get_names(name_1=\"krish\",*args):\n",
    "    \n",
    "    for i in args:\n",
    "        print(i)\n",
    "    \n",
    "        \n",
    "        \n",
    "get_names(\"rohit\",\"raj\",\"ravi\",\"ram\")    \n",
    "    \n",
    "        \n"
   ]
  },
  {
   "cell_type": "markdown",
   "id": "59790b29",
   "metadata": {},
   "source": [
    "so in the above example we can see that 1st input \"rohit\" will get assign to name_1 according to position , but we didnt ask the program to print it so it wont get print but rest other 3 input values get printed because of for loop where we just printing the \"i\" values ,which are rest of the values which we given as input to \"*args\"(non keyword arguments) while calling the function "
   ]
  },
  {
   "cell_type": "code",
   "execution_count": 17,
   "id": "66aa8ec8",
   "metadata": {},
   "outputs": [
    {
     "name": "stdout",
     "output_type": "stream",
     "text": [
      "rohit\n",
      "raj\n",
      "ravi\n",
      "ram\n"
     ]
    }
   ],
   "source": [
    "def get_names(name_1=\"krish\",*args):\n",
    "    print(name_1)\n",
    "    for i in args:\n",
    "        print(i)\n",
    "    \n",
    "    \n",
    "        \n",
    "        \n",
    "get_names(\"rohit\",\"raj\",\"ravi\",\"ram\")    "
   ]
  },
  {
   "cell_type": "markdown",
   "id": "f018d006",
   "metadata": {},
   "source": [
    "so here in above  example we can see that we have aslo ask the programe to print the \"name_1\" argument before for loop , so we will get 1st values of input i.e \"rohit\" in ouptut because that value get assign to name_1 according to position ,\n",
    "and we can get print(name_1) anywhere in the function body , either inside the loop or outside the loop .\n",
    "point to be noted that name_1 has already assigned the default values i.e \"krish\"\n",
    "but still we can replace that value with other input value. just like in above add() function where deafult value \"0\" is assigned to both parameter but still we can assign new values to them and run the add function"
   ]
  },
  {
   "cell_type": "code",
   "execution_count": 18,
   "id": "5ba4b6b5",
   "metadata": {},
   "outputs": [
    {
     "name": "stdout",
     "output_type": "stream",
     "text": [
      "hello rohit\n",
      "hello raj\n",
      "hello ravi\n",
      "hello ram\n"
     ]
    }
   ],
   "source": [
    "def greet_names(greeting, *args):\n",
    "    for i in args:\n",
    "        print(greeting,i)\n",
    "        \n",
    "greet_names(\"hello\",\"rohit\",\"raj\",\"ravi\",\"ram\")"
   ]
  },
  {
   "cell_type": "markdown",
   "id": "53efaeeb",
   "metadata": {},
   "source": [
    "# 3. Keyword Arguments:\n",
    "the data type of keyowrd argument is \"dictionary\" .\n",
    "we denote it as double astrik (**variable_name).\n",
    "we use any functon or method of dictionary \n",
    "\n"
   ]
  },
  {
   "cell_type": "code",
   "execution_count": 23,
   "id": "0406d29f",
   "metadata": {},
   "outputs": [
    {
     "name": "stdout",
     "output_type": "stream",
     "text": [
      "<class 'dict'>\n",
      "{'a': 1, 'b': 2, 'c': 3}\n"
     ]
    }
   ],
   "source": [
    "def add(**kwargs):\n",
    "    print(type(kwargs))\n",
    "    print(kwargs)\n",
    "    \n",
    "add(a=1,b=2,c=3)\n",
    "    "
   ]
  },
  {
   "cell_type": "code",
   "execution_count": null,
   "id": "e9a03ae2",
   "metadata": {},
   "outputs": [
    {
     "name": "stdout",
     "output_type": "stream",
     "text": [
      "<class 'dict'>\n",
      "{'a': 1, 'b': 2, 'c': 3}\n",
      "1 2 3\n",
      "1 2 3\n",
      "6\n",
      "6\n"
     ]
    }
   ],
   "source": [
    " # to get the values assign to key of the dictionary.\n",
    " # we can do it in 2 way 1. get method 2.by indexing .\n",
    " \n",
    " def add(**kwargs):\n",
    "    print(type(kwargs))\n",
    "    print(kwargs)\n",
    "    print(kwargs[\"a\"],kwargs[\"b\"],kwargs[\"c\"])\n",
    "    print(kwargs.get(\"a\"),kwargs.get(\"b\"),kwargs.get(\"c\"))\n",
    "    print(kwargs[\"a\"]+kwargs[\"b\"]+kwargs[\"c\"]) # performing addition\n",
    "    print(kwargs.get(\"a\")+kwargs.get(\"b\")+kwargs.get(\"c\"))\n",
    "    \n",
    "    \n",
    "add(a=1,b=2,c=3)  "
   ]
  },
  {
   "cell_type": "code",
   "execution_count": null,
   "id": "7ede4c81",
   "metadata": {},
   "outputs": [
    {
     "ename": "TypeError",
     "evalue": "add() takes 0 positional arguments but 5 were given",
     "output_type": "error",
     "traceback": [
      "\u001b[1;31m---------------------------------------------------------------------------\u001b[0m",
      "\u001b[1;31mTypeError\u001b[0m                                 Traceback (most recent call last)",
      "Cell \u001b[1;32mIn[27], line 5\u001b[0m\n\u001b[0;32m      2\u001b[0m     \u001b[38;5;28mprint\u001b[39m(\u001b[38;5;28mtype\u001b[39m(kwargs))\n\u001b[0;32m      3\u001b[0m     \u001b[38;5;28mprint\u001b[39m(kwargs)\n\u001b[1;32m----> 5\u001b[0m \u001b[43madd\u001b[49m\u001b[43m(\u001b[49m\u001b[38;5;241;43m1\u001b[39;49m\u001b[43m,\u001b[49m\u001b[38;5;241;43m2\u001b[39;49m\u001b[43m,\u001b[49m\u001b[38;5;241;43m3\u001b[39;49m\u001b[43m,\u001b[49m\u001b[38;5;241;43m4\u001b[39;49m\u001b[43m,\u001b[49m\u001b[38;5;241;43m5\u001b[39;49m\u001b[43m)\u001b[49m\n",
      "\u001b[1;31mTypeError\u001b[0m: add() takes 0 positional arguments but 5 were given"
     ]
    }
   ],
   "source": [
    "def add(**kwargs):\n",
    "    print(type(kwargs))\n",
    "    print(kwargs)\n",
    "    \n",
    "add(1,2,3,4,5) # we need to pass key value pair."
   ]
  },
  {
   "cell_type": "code",
   "execution_count": 33,
   "id": "944993cc",
   "metadata": {},
   "outputs": [
    {
     "name": "stdout",
     "output_type": "stream",
     "text": [
      "<class 'dict'>\n",
      "<class 'tuple'>\n",
      "{'a': 1, 'b': 2, 'c': 3}\n",
      "(1, 2, 3, 4, 5)\n"
     ]
    }
   ],
   "source": [
    "def add(*args,**kwargs):      #we can use *args and **kwargs together also\n",
    "    print(type(kwargs))\n",
    "    print(type(args))\n",
    "    print(kwargs)\n",
    "    print(args)\n",
    "    \n",
    "add(1,2,3,4,5,a=1,b=2,c=3)"
   ]
  },
  {
   "cell_type": "code",
   "execution_count": null,
   "id": "00070b51",
   "metadata": {},
   "outputs": [
    {
     "data": {
      "text/plain": [
       "15"
      ]
     },
     "execution_count": 34,
     "metadata": {},
     "output_type": "execute_result"
    }
   ],
   "source": [
    "## one list function that is  sum function. where a list is given and we \n",
    "## need to return the sum of the list then we can use sum function.\n",
    "a=[1,2,3,4,5]\n",
    "sum(a)"
   ]
  },
  {
   "cell_type": "markdown",
   "id": "d41f6f1d",
   "metadata": {},
   "source": [
    "example : to remember about what is \"parameter\" and what is \"return\" in function .\n",
    "we can think of it as let say one player has two hands to catch two balls .\n",
    "those two balls which he is catching we can consider them as an parameter . now after catching the ball player can do anything with them , which we define in function body and then if player want to through back the ball, we call it as \"return\" after the body of fucntion which is defined i.e return  and then if we call the function we can't use it , because no one is there to catch the ball once it through back so for that we need to assign a variable to use the function calling i.e x = sum (a,b)"
   ]
  },
  {
   "cell_type": "code",
   "execution_count": 1,
   "id": "c5057cf1",
   "metadata": {},
   "outputs": [
    {
     "data": {
      "text/plain": [
       "3"
      ]
     },
     "execution_count": 1,
     "metadata": {},
     "output_type": "execute_result"
    }
   ],
   "source": [
    "def add (a,b):\n",
    "    c= a+b # this is doing the calculation \n",
    "    return c # thourghing the ball back \n",
    "\n",
    "add(1,2)\n"
   ]
  },
  {
   "cell_type": "code",
   "execution_count": 2,
   "id": "12b20a9e",
   "metadata": {},
   "outputs": [],
   "source": [
    "for i in range (0,3):\n",
    "    add(1,2) # so we can see here that it is not returning anything.\n"
   ]
  },
  {
   "cell_type": "code",
   "execution_count": 4,
   "id": "36bc571b",
   "metadata": {},
   "outputs": [
    {
     "name": "stdout",
     "output_type": "stream",
     "text": [
      "3\n"
     ]
    }
   ],
   "source": [
    "for i in range (0,3):\n",
    "    d= add(1,2) # so here we are catching the ball . means assigning the value to d.\n",
    "                # and then printing it.\n",
    "    \n",
    "print(d)"
   ]
  },
  {
   "cell_type": "code",
   "execution_count": null,
   "id": "245a165a",
   "metadata": {},
   "outputs": [
    {
     "name": "stdout",
     "output_type": "stream",
     "text": [
      "function calling \n",
      "function end\n"
     ]
    }
   ],
   "source": [
    "print(\"function calling \")\n",
    "add(1,2) # but we cant see 3 in the output\n",
    "print(\"function end\")"
   ]
  },
  {
   "cell_type": "code",
   "execution_count": 40,
   "id": "a8555f0a",
   "metadata": {},
   "outputs": [
    {
     "name": "stdout",
     "output_type": "stream",
     "text": [
      "function calling \n",
      "3\n",
      "function end\n"
     ]
    }
   ],
   "source": [
    "print(\"function calling \")\n",
    "d= add(1,2) # so here we are catching the ball \n",
    "print(d)\n",
    "print(\"function end\")"
   ]
  },
  {
   "cell_type": "code",
   "execution_count": null,
   "id": "c06b7fc7",
   "metadata": {},
   "outputs": [
    {
     "data": {
      "text/plain": [
       "0"
      ]
     },
     "execution_count": 54,
     "metadata": {},
     "output_type": "execute_result"
    }
   ],
   "source": [
    "def add (a,b):\n",
    "    c= a+b \n",
    "    return 0     # it will always return zero .\n",
    "add(1,2)"
   ]
  },
  {
   "cell_type": "code",
   "execution_count": 56,
   "id": "4a08abe5",
   "metadata": {},
   "outputs": [
    {
     "name": "stdout",
     "output_type": "stream",
     "text": [
      "5\n",
      "6\n",
      "11\n",
      "0 0\n"
     ]
    }
   ],
   "source": [
    "a= 0 \n",
    "b= 0\n",
    "def add (a=1,b=1):\n",
    "    c=a+b\n",
    "    print(a)\n",
    "    print(b)\n",
    "    print(c)\n",
    "    \n",
    "add(5,6) # this will return the sum of 5 and 6.\n",
    "print(a,b) # this is outside the function so it will return initial value of a and b."
   ]
  },
  {
   "cell_type": "code",
   "execution_count": null,
   "id": "cfe01d4a",
   "metadata": {},
   "outputs": [
    {
     "name": "stdout",
     "output_type": "stream",
     "text": [
      "5\n",
      "6\n",
      "0 0\n"
     ]
    }
   ],
   "source": [
    "a= 0 \n",
    "b= 0\n",
    "def add (a=1,b=1):\n",
    "    c=a+b\n",
    "    print(a)\n",
    "    print(b)\n",
    "    return c     \n",
    "add(5,6) # here we have called the function but it is not return anything .\n",
    "print(a,b)"
   ]
  },
  {
   "cell_type": "code",
   "execution_count": null,
   "id": "373dac03",
   "metadata": {},
   "outputs": [
    {
     "name": "stdout",
     "output_type": "stream",
     "text": [
      "5\n",
      "6\n",
      "11\n"
     ]
    }
   ],
   "source": [
    "d= add(5,6) # so here we have assign the variable d to the return value of the function\n",
    "            # and then print it.\n",
    "print(d)\n"
   ]
  },
  {
   "cell_type": "markdown",
   "id": "6acf1690",
   "metadata": {},
   "source": []
  },
  {
   "cell_type": "code",
   "execution_count": null,
   "id": "174937d5",
   "metadata": {},
   "outputs": [
    {
     "name": "stdout",
     "output_type": "stream",
     "text": [
      "{3: {'name': 'asdf', 'age': 23, 'email': 'afadf'}}\n"
     ]
    }
   ],
   "source": [
    "name=input(\"enter the name\")\n",
    "age=int(input(\"enter the age\"))\n",
    "email=input(\"enter the email\")\n",
    "id=int(input(\"enter the id\"))\n",
    "\n",
    "\n",
    "\n",
    "info={ id :{\"name\" :name,\"age\":age,\"email\":email}}\n",
    "id=id+1 \n",
    "print(info)"
   ]
  },
  {
   "cell_type": "code",
   "execution_count": 2,
   "id": "c01d7b19",
   "metadata": {},
   "outputs": [],
   "source": [
    "id=1\n",
    "patient_info={}"
   ]
  },
  {
   "cell_type": "code",
   "execution_count": 3,
   "id": "8ff93d5b",
   "metadata": {},
   "outputs": [],
   "source": [
    "def bmi_calculator(weight_kg,height_cm):\n",
    "    bmi=weight_kg/((height_cm/100)**2)\n",
    "    return bmi "
   ]
  },
  {
   "cell_type": "code",
   "execution_count": null,
   "id": "c32234f2",
   "metadata": {},
   "outputs": [
    {
     "ename": "IndentationError",
     "evalue": "expected an indented block after 'try' statement on line 1 (1247959134.py, line 2)",
     "output_type": "error",
     "traceback": [
      "\u001b[1;36m  Cell \u001b[1;32mIn[22], line 2\u001b[1;36m\u001b[0m\n\u001b[1;33m    def patient_admission(f_name,l_name,age,date_ddmmyy,weight_kg,height_cm,country_lower_case):\u001b[0m\n\u001b[1;37m    ^\u001b[0m\n\u001b[1;31mIndentationError\u001b[0m\u001b[1;31m:\u001b[0m expected an indented block after 'try' statement on line 1\n"
     ]
    }
   ],
   "source": [
    "\n",
    "def patient_admission(f_name,l_name,age,date_ddmmyy,weight_kg,height_cm,country_lower_case):\n",
    "    global id\n",
    "    global patient_info\n",
    "    patient_info[id][\"f_name\"]=f_name,\n",
    "    patient_info[id][\"l_name\"]=l_name,\n",
    "    patient_info[id][\"age\"]=age,\n",
    "    patient_info[id][\"date_ddmmyy\"]=date_ddmmyy,\n",
    "    patient_info[id][\"weight_kg\"]=weight_kg,\n",
    "    patient_info[id][\"height_cm\"]=height_cm,\n",
    "    patient_info[id][\"country_lower_case\"]=country_lower_case,\n",
    "    patient_info[id][\"temp_ind\"]=None\n",
    "    patient_info[id][\"temp_others\"]=None\n",
    "    patient_info[id][\"bmi\"]=bmi_calculator(weight_kg,height_cm)\n",
    "    \n",
    "    if country_lower_case == \"india\":\n",
    "        patient_info[id][\"temp_ind\"]=float(input(\"enter the temprature in celsius\"))\n",
    "    else:\n",
    "        patient_info[id][\"temp_others\"]=float(input(\"enter the temprature in fahrenheit\"))\n",
    "    \n",
    "    id=id+1\n",
    "    \n",
    "\n",
    "    \n",
    "    \n",
    "    \n",
    "    "
   ]
  },
  {
   "cell_type": "code",
   "execution_count": 5,
   "id": "ba5887b3",
   "metadata": {},
   "outputs": [],
   "source": [
    "def patient_details_for_opd(patient_id):\n",
    "    temp=None\n",
    "    if patient_info[patient_id][\"temp_ind\"] is not None:\n",
    "        temp=patient_info[patient_id][\"temp_ind\"]\n",
    "    else:\n",
    "        temp=patient_info[patient_id][\"temp_others\"]\n",
    "        \n",
    "        print(\"Patient_id\", list(patient_info.keys())[id-1], \" Patient full_name is : \", patient_info[patient_id][\"f_name\"] + \" \" + patient_info[patient_id][\"l_name\"], \"Patient temperate is : \", temp, \"Patient BMI is : \", patient_info[patient_id][\"bmi\"])\n",
    "        "
   ]
  },
  {
   "cell_type": "code",
   "execution_count": null,
   "id": "5bf3c7e5",
   "metadata": {},
   "outputs": [
    {
     "ename": "SyntaxError",
     "evalue": "invalid syntax (3129095558.py, line 8)",
     "output_type": "error",
     "traceback": [
      "\u001b[1;36m  Cell \u001b[1;32mIn[21], line 8\u001b[1;36m\u001b[0m\n\u001b[1;33m    except:\u001b[0m\n\u001b[1;37m    ^\u001b[0m\n\u001b[1;31mSyntaxError\u001b[0m\u001b[1;31m:\u001b[0m invalid syntax\n"
     ]
    }
   ],
   "source": [
    "\n",
    "f_name=input(\"Enter the fist name:\")\n",
    "l_name=input(\"Enter the last name:\")\n",
    "age=int(input(\"enter the age:\"))\n",
    "date_ddmmyy=input(\"enter the date in ddmmyy format:\")\n",
    "weight_kg=float(input(\"enter the weight in kg:\"))\n",
    "height_cm=float(input(\"enter the height in cm:\"))\n",
    "country_lower_case=input(\"enter the country name in lower case:\")\n",
    "\n",
    "patient_admission(f_name,l_name,age,date_ddmmyy,weight_kg,height_cm,country_lower_case)\n",
    "\n"
   ]
  },
  {
   "cell_type": "code",
   "execution_count": 10,
   "id": "6458588e",
   "metadata": {},
   "outputs": [
    {
     "ename": "KeyError",
     "evalue": "1",
     "output_type": "error",
     "traceback": [
      "\u001b[1;31m---------------------------------------------------------------------------\u001b[0m",
      "\u001b[1;31mKeyError\u001b[0m                                  Traceback (most recent call last)",
      "Cell \u001b[1;32mIn[10], line 1\u001b[0m\n\u001b[1;32m----> 1\u001b[0m \u001b[43mpatient_details_for_opd\u001b[49m\u001b[43m(\u001b[49m\u001b[38;5;241;43m1\u001b[39;49m\u001b[43m)\u001b[49m\n",
      "Cell \u001b[1;32mIn[5], line 3\u001b[0m, in \u001b[0;36mpatient_details_for_opd\u001b[1;34m(patient_id)\u001b[0m\n\u001b[0;32m      1\u001b[0m \u001b[38;5;28;01mdef\u001b[39;00m\u001b[38;5;250m \u001b[39m\u001b[38;5;21mpatient_details_for_opd\u001b[39m(patient_id):\n\u001b[0;32m      2\u001b[0m     temp\u001b[38;5;241m=\u001b[39m\u001b[38;5;28;01mNone\u001b[39;00m\n\u001b[1;32m----> 3\u001b[0m     \u001b[38;5;28;01mif\u001b[39;00m \u001b[43mpatient_info\u001b[49m\u001b[43m[\u001b[49m\u001b[43mpatient_id\u001b[49m\u001b[43m]\u001b[49m[\u001b[38;5;124m\"\u001b[39m\u001b[38;5;124mtemp_ind\u001b[39m\u001b[38;5;124m\"\u001b[39m] \u001b[38;5;129;01mis\u001b[39;00m \u001b[38;5;129;01mnot\u001b[39;00m \u001b[38;5;28;01mNone\u001b[39;00m:\n\u001b[0;32m      4\u001b[0m         temp\u001b[38;5;241m=\u001b[39mpatient_info[patient_id][\u001b[38;5;124m\"\u001b[39m\u001b[38;5;124mtemp_ind\u001b[39m\u001b[38;5;124m\"\u001b[39m]\n\u001b[0;32m      5\u001b[0m     \u001b[38;5;28;01melse\u001b[39;00m:\n",
      "\u001b[1;31mKeyError\u001b[0m: 1"
     ]
    }
   ],
   "source": [
    "patient_details_for_opd(1)"
   ]
  },
  {
   "cell_type": "code",
   "execution_count": 19,
   "id": "f488e709",
   "metadata": {},
   "outputs": [
    {
     "ename": "SyntaxError",
     "evalue": "invalid syntax (316140902.py, line 5)",
     "output_type": "error",
     "traceback": [
      "\u001b[1;36m  Cell \u001b[1;32mIn[19], line 5\u001b[1;36m\u001b[0m\n\u001b[1;33m    except(SyntaxError,ZeroDivisionError,NameError):\u001b[0m\n\u001b[1;37m    ^\u001b[0m\n\u001b[1;31mSyntaxError\u001b[0m\u001b[1;31m:\u001b[0m invalid syntax\n"
     ]
    }
   ],
   "source": [
    "\n",
    "    print(1/0)\n",
    "\n",
    "    print(e)\n",
    "    \n",
    "except(SyntaxError,ZeroDivisionError,NameError):\n",
    "    print(\"Hello\")"
   ]
  },
  {
   "cell_type": "code",
   "execution_count": null,
   "id": "2008e1fe",
   "metadata": {},
   "outputs": [],
   "source": [
    "# this should be reflected in git as well as github"
   ]
  }
 ],
 "metadata": {
  "kernelspec": {
   "display_name": "nenv",
   "language": "python",
   "name": "python3"
  },
  "language_info": {
   "codemirror_mode": {
    "name": "ipython",
    "version": 3
   },
   "file_extension": ".py",
   "mimetype": "text/x-python",
   "name": "python",
   "nbconvert_exporter": "python",
   "pygments_lexer": "ipython3",
   "version": "3.9.21"
  }
 },
 "nbformat": 4,
 "nbformat_minor": 5
}
